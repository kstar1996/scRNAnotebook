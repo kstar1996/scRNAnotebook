{
 "cells": [
  {
   "cell_type": "markdown",
   "metadata": {},
   "source": [
    "시작 전에 할 것\n",
    "* Console에 \"pip install scanpy\" 치고 scanpy 다운로드하기\n",
    "\n",
    "# Single Cell RNA Sequencing\n",
    "\n",
    "## Setup and Installation\n",
    "\n",
    "## Workflow Review\n",
    "\n",
    "이 노트북은 scRNA-seq 데이터의 컴퓨터 분석에 관한 것입니다. scRNA-seq를 수행하는 데 사용할 수 있는 여러 플랫폼이 있습니다.\n",
    "* Seurat는 단일 세포 RNA-seq 데이터의 QC, 분석 및 탐색을 위해 설계된 R 패키지입니다.\n",
    "* Scanpy는 Seurat와 유사한 Python 패키지입니다.\n",
    "\n",
    "## Data\n",
    "\n",
    "Tabula Muris는 단일 세포 수준에서 모든 마우스 조직을 프로파일링하는 scRNA-seq 데이터세트입니다. 여기(https://github.com/chanzuckerberg/scRNA-python-workshop/blob/master/content/data.zip) 에서 데이터를 다운로드하고 압축을 풀고 프로젝트 폴더에 넣습니다. \n",
    "\n",
    "마우스 두뇌의 Smartseq2 데이터를 사용할 것입니다. 이 데이터는 다음으로 구성됩니다.\n",
    "1. 각 열이 유전자(또는 전사체)에 해당하고 각 행이 단일 세포에 해당하는 expression matrix\n",
    "2. 각 셀을 설명하는 metadata 테이블\n",
    "\n",
    "### Reading the count matrix\n"
   ]
  },
  {
   "cell_type": "code",
   "execution_count": 2,
   "metadata": {
    "_cell_guid": "b1076dfc-b9ad-4769-8c92-a6c4dae69d19",
    "_uuid": "8f2839f25d086af736a60e9eeb907d3b93b6e0e5",
    "execution": {
     "iopub.execute_input": "2022-03-29T01:31:13.862172Z",
     "iopub.status.busy": "2022-03-29T01:31:13.861845Z",
     "iopub.status.idle": "2022-03-29T01:31:53.848281Z",
     "shell.execute_reply": "2022-03-29T01:31:53.847380Z",
     "shell.execute_reply.started": "2022-03-29T01:31:13.862126Z"
    }
   },
   "outputs": [
    {
     "name": "stdout",
     "output_type": "stream",
     "text": [
      "Requirement already satisfied: scanpy in /Library/Frameworks/Python.framework/Versions/3.10/lib/python3.10/site-packages (1.8.2)\n",
      "Requirement already satisfied: scikit-learn>=0.22 in /Library/Frameworks/Python.framework/Versions/3.10/lib/python3.10/site-packages (from scanpy) (1.0.2)\n",
      "Requirement already satisfied: pandas>=0.21 in /Library/Frameworks/Python.framework/Versions/3.10/lib/python3.10/site-packages (from scanpy) (1.4.1)\n",
      "Requirement already satisfied: patsy in /Library/Frameworks/Python.framework/Versions/3.10/lib/python3.10/site-packages (from scanpy) (0.5.2)\n",
      "Requirement already satisfied: umap-learn>=0.3.10 in /Library/Frameworks/Python.framework/Versions/3.10/lib/python3.10/site-packages (from scanpy) (0.5.2)\n",
      "Requirement already satisfied: joblib in /Library/Frameworks/Python.framework/Versions/3.10/lib/python3.10/site-packages (from scanpy) (1.1.0)\n",
      "Requirement already satisfied: networkx>=2.3 in /Library/Frameworks/Python.framework/Versions/3.10/lib/python3.10/site-packages (from scanpy) (2.7.1)\n",
      "Requirement already satisfied: tables in /Library/Frameworks/Python.framework/Versions/3.10/lib/python3.10/site-packages (from scanpy) (3.7.0)\n",
      "Requirement already satisfied: natsort in /Library/Frameworks/Python.framework/Versions/3.10/lib/python3.10/site-packages (from scanpy) (8.1.0)\n",
      "Requirement already satisfied: seaborn in /Library/Frameworks/Python.framework/Versions/3.10/lib/python3.10/site-packages (from scanpy) (0.11.2)\n",
      "Requirement already satisfied: numba>=0.41.0 in /Library/Frameworks/Python.framework/Versions/3.10/lib/python3.10/site-packages (from scanpy) (0.55.1)\n",
      "Requirement already satisfied: h5py>=2.10.0 in /Library/Frameworks/Python.framework/Versions/3.10/lib/python3.10/site-packages (from scanpy) (3.6.0)\n",
      "Requirement already satisfied: tqdm in /Library/Frameworks/Python.framework/Versions/3.10/lib/python3.10/site-packages (from scanpy) (4.63.1)\n",
      "Requirement already satisfied: sinfo in /Library/Frameworks/Python.framework/Versions/3.10/lib/python3.10/site-packages (from scanpy) (0.3.4)\n",
      "Requirement already satisfied: packaging in /Library/Frameworks/Python.framework/Versions/3.10/lib/python3.10/site-packages (from scanpy) (21.3)\n",
      "Requirement already satisfied: numpy>=1.17.0 in /Library/Frameworks/Python.framework/Versions/3.10/lib/python3.10/site-packages (from scanpy) (1.21.5)\n",
      "Requirement already satisfied: anndata>=0.7.4 in /Library/Frameworks/Python.framework/Versions/3.10/lib/python3.10/site-packages (from scanpy) (0.8.0)\n",
      "Requirement already satisfied: scipy>=1.4 in /Library/Frameworks/Python.framework/Versions/3.10/lib/python3.10/site-packages (from scanpy) (1.7.3)\n",
      "Requirement already satisfied: statsmodels>=0.10.0rc2 in /Library/Frameworks/Python.framework/Versions/3.10/lib/python3.10/site-packages (from scanpy) (0.13.2)\n",
      "Requirement already satisfied: matplotlib>=3.1.2 in /Library/Frameworks/Python.framework/Versions/3.10/lib/python3.10/site-packages (from scanpy) (3.5.1)\n",
      "Requirement already satisfied: kiwisolver>=1.0.1 in /Library/Frameworks/Python.framework/Versions/3.10/lib/python3.10/site-packages (from matplotlib>=3.1.2->scanpy) (1.4.2)\n",
      "Requirement already satisfied: pyparsing>=2.2.1 in /Library/Frameworks/Python.framework/Versions/3.10/lib/python3.10/site-packages (from matplotlib>=3.1.2->scanpy) (3.0.7)\n",
      "Requirement already satisfied: python-dateutil>=2.7 in /Library/Frameworks/Python.framework/Versions/3.10/lib/python3.10/site-packages (from matplotlib>=3.1.2->scanpy) (2.8.2)\n",
      "Requirement already satisfied: pillow>=6.2.0 in /Library/Frameworks/Python.framework/Versions/3.10/lib/python3.10/site-packages (from matplotlib>=3.1.2->scanpy) (9.0.1)\n",
      "Requirement already satisfied: cycler>=0.10 in /Library/Frameworks/Python.framework/Versions/3.10/lib/python3.10/site-packages (from matplotlib>=3.1.2->scanpy) (0.11.0)\n",
      "Requirement already satisfied: fonttools>=4.22.0 in /Library/Frameworks/Python.framework/Versions/3.10/lib/python3.10/site-packages (from matplotlib>=3.1.2->scanpy) (4.31.2)\n",
      "Requirement already satisfied: setuptools in /Library/Frameworks/Python.framework/Versions/3.10/lib/python3.10/site-packages (from numba>=0.41.0->scanpy) (59.8.0)\n",
      "Requirement already satisfied: llvmlite<0.39,>=0.38.0rc1 in /Library/Frameworks/Python.framework/Versions/3.10/lib/python3.10/site-packages (from numba>=0.41.0->scanpy) (0.38.0)\n",
      "Requirement already satisfied: pytz>=2020.1 in /Library/Frameworks/Python.framework/Versions/3.10/lib/python3.10/site-packages (from pandas>=0.21->scanpy) (2022.1)\n",
      "Requirement already satisfied: six>=1.5 in /Library/Frameworks/Python.framework/Versions/3.10/lib/python3.10/site-packages (from python-dateutil>=2.7->matplotlib>=3.1.2->scanpy) (1.16.0)\n",
      "Requirement already satisfied: threadpoolctl>=2.0.0 in /Library/Frameworks/Python.framework/Versions/3.10/lib/python3.10/site-packages (from scikit-learn>=0.22->scanpy) (3.0.0)\n",
      "Requirement already satisfied: pynndescent>=0.5 in /Library/Frameworks/Python.framework/Versions/3.10/lib/python3.10/site-packages (from umap-learn>=0.3.10->scanpy) (0.5.6)\n",
      "Requirement already satisfied: stdlib-list in /Library/Frameworks/Python.framework/Versions/3.10/lib/python3.10/site-packages (from sinfo->scanpy) (0.8.0)\n",
      "Requirement already satisfied: numexpr>=2.6.2 in /Library/Frameworks/Python.framework/Versions/3.10/lib/python3.10/site-packages (from tables->scanpy) (2.8.1)\n",
      "\u001b[33mWARNING: You are using pip version 21.2.4; however, version 22.0.4 is available.\n",
      "You should consider upgrading via the '/Library/Frameworks/Python.framework/Versions/3.10/bin/python3.10 -m pip install --upgrade pip' command.\u001b[0m\n",
      "Requirement already satisfied: pandas in /Library/Frameworks/Python.framework/Versions/3.10/lib/python3.10/site-packages (1.4.1)\n",
      "Requirement already satisfied: pytz>=2020.1 in /Library/Frameworks/Python.framework/Versions/3.10/lib/python3.10/site-packages (from pandas) (2022.1)\n",
      "Requirement already satisfied: python-dateutil>=2.8.1 in /Library/Frameworks/Python.framework/Versions/3.10/lib/python3.10/site-packages (from pandas) (2.8.2)\n",
      "Requirement already satisfied: numpy>=1.21.0 in /Library/Frameworks/Python.framework/Versions/3.10/lib/python3.10/site-packages (from pandas) (1.21.5)\n",
      "Requirement already satisfied: six>=1.5 in /Library/Frameworks/Python.framework/Versions/3.10/lib/python3.10/site-packages (from python-dateutil>=2.8.1->pandas) (1.16.0)\n",
      "\u001b[33mWARNING: You are using pip version 21.2.4; however, version 22.0.4 is available.\n",
      "You should consider upgrading via the '/Library/Frameworks/Python.framework/Versions/3.10/bin/python3.10 -m pip install --upgrade pip' command.\u001b[0m\n",
      "                         0610005C13Rik  0610007C21Rik  0610007L01Rik  \\\n",
      "A1.B003290.3_38_F.1.1                0            125             16   \n",
      "A1.B003728.3_56_F.1.1                0              0              0   \n",
      "A1.MAA000560.3_10_M.1.1              0            348              0   \n",
      "\n",
      "                         0610007N19Rik  0610007P08Rik  0610007P14Rik  \\\n",
      "A1.B003290.3_38_F.1.1                0              0              0   \n",
      "A1.B003728.3_56_F.1.1                0              0            324   \n",
      "A1.MAA000560.3_10_M.1.1              0              0              5   \n",
      "\n",
      "                         0610007P22Rik  0610008F07Rik  0610009B14Rik  \\\n",
      "A1.B003290.3_38_F.1.1                0              0              0   \n",
      "A1.B003728.3_56_F.1.1                0              0              0   \n",
      "A1.MAA000560.3_10_M.1.1              0              0              0   \n",
      "\n",
      "                         0610009B22Rik  ...  Zxdb  Zxdc  Zyg11a  Zyg11b  Zyx  \\\n",
      "A1.B003290.3_38_F.1.1                0  ...     0     0       0       0    0   \n",
      "A1.B003728.3_56_F.1.1                0  ...     0     0       0       0    0   \n",
      "A1.MAA000560.3_10_M.1.1              0  ...     0     0       0       0    0   \n",
      "\n",
      "                         Zzef1  Zzz3  a  l7Rn6  zsGreen_transgene  \n",
      "A1.B003290.3_38_F.1.1        0     0  0     54                  0  \n",
      "A1.B003728.3_56_F.1.1        0     0  0      0                  0  \n",
      "A1.MAA000560.3_10_M.1.1    195     0  0    113                  0  \n",
      "\n",
      "[3 rows x 23433 columns]\n"
     ]
    }
   ],
   "source": [
    "# 터미널을 이용해서 pandas를 설치합니다\n",
    "# pip3 install pandas (MacOS)\n",
    "! pip3 install scanpy\n",
    "! pip3 install pandas\n",
    "\n",
    "import pandas as pd  # DataFrame 작업을 위해 pandas 라이브러리 import\n",
    "\n",
    "# pandas에게 `brain_counts.csv`의 내용으로 새 DataFrame을 만들라고 지시\n",
    "# 첫 번째 열을 사용하여 행의 레이블 지정\n",
    "count_df = pd.read_csv('./data/brain_counts.csv', index_col=0)\n",
    "\n",
    "# DataFrame의 처음 3 행을 출력\n",
    "print(count_df.head(3))"
   ]
  },
  {
   "cell_type": "code",
   "execution_count": 3,
   "metadata": {
    "execution": {
     "iopub.execute_input": "2022-03-29T01:31:57.378469Z",
     "iopub.status.busy": "2022-03-29T01:31:57.378174Z",
     "iopub.status.idle": "2022-03-29T01:31:57.383477Z",
     "shell.execute_reply": "2022-03-29T01:31:57.382490Z",
     "shell.execute_reply.started": "2022-03-29T01:31:57.378431Z"
    }
   },
   "outputs": [
    {
     "name": "stdout",
     "output_type": "stream",
     "text": [
      "(3401, 23433)\n"
     ]
    }
   ],
   "source": [
    "# (N rows, N columns)\n",
    "# 모양을 물어봄으로써 데이터 세트에 얼마나 많은 유전자와 세포가 있는지 확인할 수 있다\n",
    "print(count_df.shape)"
   ]
  },
  {
   "cell_type": "markdown",
   "metadata": {},
   "source": [
    "### Reading the metadata"
   ]
  },
  {
   "cell_type": "code",
   "execution_count": 6,
   "metadata": {
    "execution": {
     "iopub.execute_input": "2022-03-29T01:32:03.715698Z",
     "iopub.status.busy": "2022-03-29T01:32:03.714919Z",
     "iopub.status.idle": "2022-03-29T01:32:03.740047Z",
     "shell.execute_reply": "2022-03-29T01:32:03.739456Z",
     "shell.execute_reply.started": "2022-03-29T01:32:03.715652Z"
    }
   },
   "outputs": [
    {
     "name": "stdout",
     "output_type": "stream",
     "text": [
      "                        cell_ontology_class    subtissue mouse.sex mouse.id  \\\n",
      "cell                                                                          \n",
      "A1.B003290.3_38_F.1.1             astrocyte     Striatum         F   3_38_F   \n",
      "A1.B003728.3_56_F.1.1             astrocyte     Striatum         F   3_56_F   \n",
      "A1.MAA000560.3_10_M.1.1     oligodendrocyte       Cortex         M   3_10_M   \n",
      "A1.MAA000564.3_10_M.1.1    endothelial cell     Striatum         M   3_10_M   \n",
      "A1.MAA000923.3_9_M.1.1            astrocyte  Hippocampus         M    3_9_M   \n",
      "\n",
      "                        plate.barcode  \n",
      "cell                                   \n",
      "A1.B003290.3_38_F.1.1         B003290  \n",
      "A1.B003728.3_56_F.1.1         B003728  \n",
      "A1.MAA000560.3_10_M.1.1     MAA000560  \n",
      "A1.MAA000564.3_10_M.1.1     MAA000564  \n",
      "A1.MAA000923.3_9_M.1.1      MAA000923  \n",
      "(3401, 5)\n"
     ]
    }
   ],
   "source": [
    "# pandas에게 `brain_metadata.csv`의 내용으로 새 DataFrame을 만들라고 지시\n",
    "metadata_df = pd.read_csv('./data/brain_metadata.csv', index_col=0) \n",
    "\n",
    "print(metadata_df.head())\n",
    "\n",
    "print(metadata_df.shape)"
   ]
  },
  {
   "cell_type": "markdown",
   "metadata": {},
   "source": [
    "### Building an AnnData object\n",
    "\n",
    "데이터 프레임을 체계적으로 유지하기 위해서 AnnData라는 데이터 구조를 사용합니다. AnnData는 분석 라이브러리인 Scanpy에서 사용하는 표준 형식입니다. AnnData는 cell을 observation을로, gene을 variable이라고 표현합니다. 이 데이터 구조에는 정보를 저장할 수 있는 4가지 영역이 있습니다:\n",
    "\n",
    "1. AnnData.X: count matrix를 저장\n",
    "2. AnnData.obs: 셀에 대한 메타데이터를 저장\n",
    "3. AnnData.var: 유전자에 대한 메타데이터를 저장\n",
    "4. AnnData.uns: 나중에 첨부하기로 결정한 비정형 정보를 저장\n",
    "\n",
    "카운트 매트릭스에 .X 부분을 사용하고 각 셀을 설명하는 메타데이터에 .obs 부분을 사용합니다."
   ]
  },
  {
   "cell_type": "code",
   "execution_count": 7,
   "metadata": {
    "execution": {
     "iopub.execute_input": "2022-03-29T01:32:10.190955Z",
     "iopub.status.busy": "2022-03-29T01:32:10.190164Z",
     "iopub.status.idle": "2022-03-29T01:32:13.188802Z",
     "shell.execute_reply": "2022-03-29T01:32:13.187857Z",
     "shell.execute_reply.started": "2022-03-29T01:32:10.190911Z"
    }
   },
   "outputs": [
    {
     "name": "stderr",
     "output_type": "stream",
     "text": [
      "/var/folders/fh/5xpsdnyx6h9gcmjzfchyjnrm0000gn/T/ipykernel_13256/3168593362.py:4: FutureWarning: X.dtype being converted to np.float32 from int64. In the next version of anndata (0.9) conversion will not be automatic. Pass dtype explicitly to avoid this warning. Pass `AnnData(X, dtype=X.dtype, ...)` to get the future behavour.\n",
      "  adata = sc.AnnData(X = count_df, obs = metadata_df)\n"
     ]
    },
    {
     "name": "stdout",
     "output_type": "stream",
     "text": [
      "AnnData object with n_obs × n_vars = 3401 × 23433\n",
      "    obs: 'cell_ontology_class', 'subtissue', 'mouse.sex', 'mouse.id', 'plate.barcode'\n",
      "cell\n",
      "A1.B003290.3_38_F.1.1         Striatum\n",
      "A1.B003728.3_56_F.1.1         Striatum\n",
      "A1.MAA000560.3_10_M.1.1         Cortex\n",
      "A1.MAA000564.3_10_M.1.1       Striatum\n",
      "A1.MAA000923.3_9_M.1.1     Hippocampus\n",
      "                              ...     \n",
      "P9.MAA000926.3_9_M.1.1          Cortex\n",
      "P9.MAA000930.3_8_M.1.1          Cortex\n",
      "P9.MAA000932.3_11_M.1.1    Hippocampus\n",
      "P9.MAA000935.3_8_M.1.1     Hippocampus\n",
      "P9.MAA001894.3_39_F.1.1         Cortex\n",
      "Name: subtissue, Length: 3401, dtype: object\n"
     ]
    }
   ],
   "source": [
    "# 터미널을 이용해서 scanpy를 설치합니다 (시간이 좀 소요됨)\n",
    "# pip3 install scanpy (MacOS)\n",
    "import scanpy as sc\n",
    "adata = sc.AnnData(X = count_df, obs = metadata_df)\n",
    "print(adata)\n",
    "print(adata.obs['subtissue'])"
   ]
  },
  {
   "cell_type": "markdown",
   "metadata": {},
   "source": [
    "### Labeling spike-ins (ERCC)\n",
    "Smartseq2 데이터에는 spike-in이 있을 수 있으며 이름이 ERCC로 시작하는 유전자를 검색해서 찾을 수 있습니다. 이 정보는 나중에 QC 필터링에 유용합니다."
   ]
  },
  {
   "cell_type": "code",
   "execution_count": 8,
   "metadata": {
    "execution": {
     "iopub.execute_input": "2022-03-29T01:32:22.718932Z",
     "iopub.status.busy": "2022-03-29T01:32:22.718078Z",
     "iopub.status.idle": "2022-03-29T01:32:22.745029Z",
     "shell.execute_reply": "2022-03-29T01:32:22.744089Z",
     "shell.execute_reply.started": "2022-03-29T01:32:22.718886Z"
    }
   },
   "outputs": [
    {
     "name": "stdout",
     "output_type": "stream",
     "text": [
      "number of spike ins:  92\n"
     ]
    }
   ],
   "source": [
    "is_spike_in = {}\n",
    "num_spike_ins = 0\n",
    "\n",
    "for gene_name in adata.var_names:\n",
    "    # ERCC로 시작하는 유전자 검색\n",
    "    if 'ERCC' in gene_name:\n",
    "        is_spike_in[gene_name] = True # spike-in을 발견했다고 기록\n",
    "        num_spike_ins += 1 \n",
    "    else:\n",
    "        is_spike_in[gene_name] = False # spike-in을 발견하지 못했다고 기록\n",
    "\n",
    "adata.var['ERCC'] = pd.Series(is_spike_in) \n",
    "print('number of spike ins: ', num_spike_ins)"
   ]
  },
  {
   "cell_type": "markdown",
   "metadata": {},
   "source": [
    "모든 세포에서 가장 많이 발현되는 유전자를 한번 보도록 하겠습니다."
   ]
  },
  {
   "cell_type": "code",
   "execution_count": 9,
   "metadata": {
    "execution": {
     "iopub.execute_input": "2022-03-29T01:32:25.764070Z",
     "iopub.status.busy": "2022-03-29T01:32:25.763794Z",
     "iopub.status.idle": "2022-03-29T01:32:26.909253Z",
     "shell.execute_reply": "2022-03-29T01:32:26.908432Z",
     "shell.execute_reply.started": "2022-03-29T01:32:25.764041Z"
    }
   },
   "outputs": [
    {
     "data": {
      "image/png": "[encoded data removed]",
      "text/plain": [
       "<Figure size 360x396 with 1 Axes>"
      ]
     },
     "metadata": {
      "needs_background": "light"
     },
     "output_type": "display_data"
    }
   ],
   "source": [
    "sc.pl.highest_expr_genes(adata, n_top=20, )"
   ]
  },
  {
   "cell_type": "markdown",
   "metadata": {},
   "source": [
    "AnnData 데이터 구조 생성을 마쳤으므로 나중에 사용할 수 있도록 파일에 저장합니다."
   ]
  },
  {
   "cell_type": "code",
   "execution_count": 10,
   "metadata": {
    "execution": {
     "iopub.execute_input": "2022-03-29T01:32:30.679362Z",
     "iopub.status.busy": "2022-03-29T01:32:30.679052Z",
     "iopub.status.idle": "2022-03-29T01:32:31.401773Z",
     "shell.execute_reply": "2022-03-29T01:32:31.400864Z",
     "shell.execute_reply.started": "2022-03-29T01:32:30.679332Z"
    }
   },
   "outputs": [],
   "source": [
    "adata.write('./data/brain_raw.h5ad')"
   ]
  }
 ],
 "metadata": {
  "kernelspec": {
   "display_name": "Python 3 (ipykernel)",
   "language": "python",
   "name": "python3"
  },
  "language_info": {
   "codemirror_mode": {
    "name": "ipython",
    "version": 3
   },
   "file_extension": ".py",
   "mimetype": "text/x-python",
   "name": "python",
   "nbconvert_exporter": "python",
   "pygments_lexer": "ipython3",
   "version": "3.10.3"
  }
 },
 "nbformat": 4,
 "nbformat_minor": 4
}
