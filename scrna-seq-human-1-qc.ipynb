{
 "cells": [
  {
   "cell_type": "markdown",
   "metadata": {},
   "source": [
    "# Quality Control\n",
    "\n",
    "## Introduction\n",
    "AnnData 개체로 제공되는 사람 피부 세포 데이터를 가지고 QC를 진행합니다. 데이터를 읽어오고 ERCC(spike-in)을 찾습니다.\n"
   ]
  },
  {
   "cell_type": "code",
   "execution_count": 1,
   "metadata": {
    "execution": {
     "iopub.execute_input": "2022-03-29T01:58:35.487983Z",
     "iopub.status.busy": "2022-03-29T01:58:35.486930Z",
     "iopub.status.idle": "2022-03-29T01:58:47.532260Z",
     "shell.execute_reply": "2022-03-29T01:58:47.531175Z",
     "shell.execute_reply.started": "2022-03-29T01:58:35.487931Z"
    }
   },
   "outputs": [
    {
     "name": "stdout",
     "output_type": "stream",
     "text": [
      "AnnData object with n_obs × n_vars = 9424 × 58870\n",
      "    obs: 'organ_tissue', 'method', 'donor', 'anatomical_information', 'n_counts_UMIs', 'n_genes', 'cell_ontology_class', 'free_annotation', 'manually_annotated', 'compartment', 'gender'\n",
      "    var: 'gene_symbol', 'feature_type', 'ensemblid', 'highly_variable', 'means', 'dispersions', 'dispersions_norm', 'mean', 'std'\n",
      "    uns: '_scvi', '_training_mode', 'cell_ontology_class_colors', 'dendrogram_cell_type_tissue', 'dendrogram_computational_compartment_assignment', 'dendrogram_consensus_prediction', 'dendrogram_tissue_cell_type', 'donor_colors', 'donor_method_colors', 'hvg', 'method_colors', 'neighbors', 'sex_colors', 'tissue_colors', 'umap'\n",
      "    obsm: 'X_pca', 'X_scvi', 'X_scvi_umap', 'X_umap'\n",
      "    layers: 'decontXcounts', 'raw_counts'\n",
      "    obsp: 'connectivities', 'distances'\n"
     ]
    }
   ],
   "source": [
    "import scanpy as sc \n",
    "import pandas as pd \n",
    "# qc metric 시각화하기 위해 matplotlib를 import합니다\n",
    "import matplotlib.pyplot as plt \n",
    "\n",
    "%matplotlib inline \n",
    "\n",
    "adata = sc.read('./data/TS_Skin.h5ad')\n",
    "\n",
    "print(adata)"
   ]
  },
  {
   "cell_type": "code",
   "execution_count": 2,
   "metadata": {
    "execution": {
     "iopub.execute_input": "2022-03-29T01:59:31.122260Z",
     "iopub.status.busy": "2022-03-29T01:59:31.121903Z",
     "iopub.status.idle": "2022-03-29T01:59:31.181116Z",
     "shell.execute_reply": "2022-03-29T01:59:31.179883Z",
     "shell.execute_reply.started": "2022-03-29T01:59:31.122225Z"
    }
   },
   "outputs": [
    {
     "name": "stdout",
     "output_type": "stream",
     "text": [
      "found this many spike ins:  10\n"
     ]
    }
   ],
   "source": [
    "# Genes that have spike-ins start with ERCC\n",
    "is_spike_in = {}\n",
    "number_of_spike_ins = 0\n",
    "\n",
    "for g in adata.var_names:\n",
    "    if 'ERCC' in g:\n",
    "        is_spike_in[g] = True  # record that we found a spike-in\n",
    "        number_of_spike_ins += 1  # bump the counter\n",
    "    else:\n",
    "        is_spike_in[g] = False  # record that this was not a spike-in\n",
    "\n",
    "adata.var['ERCC'] = pd.Series(\n",
    "    is_spike_in)  # because the index of adata.var and the keys of is_spike_in match, anndata will take care of matching them up\n",
    "print('found this many spike ins: ', number_of_spike_ins)\n",
    "\n",
    "# adata.var['ERCC'] = adata.var_names.str.startswith('ERCC')"
   ]
  },
  {
   "cell_type": "code",
   "execution_count": 3,
   "metadata": {
    "execution": {
     "iopub.execute_input": "2022-03-29T01:59:43.530614Z",
     "iopub.status.busy": "2022-03-29T01:59:43.530305Z",
     "iopub.status.idle": "2022-03-29T01:59:43.585912Z",
     "shell.execute_reply": "2022-03-29T01:59:43.584785Z",
     "shell.execute_reply.started": "2022-03-29T01:59:43.530582Z"
    }
   },
   "outputs": [
    {
     "name": "stdout",
     "output_type": "stream",
     "text": [
      "found this many mito:  765\n"
     ]
    }
   ],
   "source": [
    "# Genes that have spike-ins start with ERCC\n",
    "is_mito_in = {}\n",
    "number_of_mito = 0\n",
    "\n",
    "for g in adata.var_names:\n",
    "    if 'MT' in g:\n",
    "        is_mito_in[g] = True  # record that we found a spike-in\n",
    "        number_of_mito += 1  # bump the counter\n",
    "    else:\n",
    "        is_mito_in[g] = False  # record that this was not a spike-in\n",
    "\n",
    "adata.var['MT'] = pd.Series(\n",
    "    is_spike_in)  # because the index of adata.var and the keys of is_spike_in match, anndata will take care of matching them up\n",
    "print('found this many mito: ', number_of_mito)\n",
    "\n",
    "# adata.var['mito'] = adata.var_names.str.startswith('MT-')"
   ]
  },
  {
   "cell_type": "markdown",
   "metadata": {},
   "source": [
    "가장 많이 발현된 유전자들을 보고 가겠습니다."
   ]
  },
  {
   "cell_type": "code",
   "execution_count": 4,
   "metadata": {
    "execution": {
     "iopub.execute_input": "2022-03-29T01:59:49.877115Z",
     "iopub.status.busy": "2022-03-29T01:59:49.876779Z",
     "iopub.status.idle": "2022-03-29T01:59:51.165974Z",
     "shell.execute_reply": "2022-03-29T01:59:51.164904Z",
     "shell.execute_reply.started": "2022-03-29T01:59:49.877078Z"
    }
   },
   "outputs": [
    {
     "data": {
      "image/png": "[encoded data removed]",
      "text/plain": [
       "<Figure size 360x396 with 1 Axes>"
      ]
     },
     "metadata": {
      "needs_background": "light"
     },
     "output_type": "display_data"
    }
   ],
   "source": [
    "sc.pl.highest_expr_genes(adata, n_top=20, )"
   ]
  },
  {
   "cell_type": "markdown",
   "metadata": {},
   "source": [
    "## Computing QC metrics\n",
    "\n",
    "QC metric을 계산한 다음 그에 맞게 세포와 유전자를 필터링합니다. pp.calculate_qc_metrics함수를 사용하면 많은 metric을 효율적으로 계산할 수 있습니다. compute_qc_metrics 함수는 두 개의 DataFrame을 반환합니다: 하나는 세포에 대한 quality control metric을 포함하고 다른 하나는 유전자에 대한 metric입니다. "
   ]
  },
  {
   "cell_type": "code",
   "execution_count": 5,
   "metadata": {
    "execution": {
     "iopub.execute_input": "2022-03-29T01:59:54.186220Z",
     "iopub.status.busy": "2022-03-29T01:59:54.185889Z",
     "iopub.status.idle": "2022-03-29T02:00:16.885521Z",
     "shell.execute_reply": "2022-03-29T02:00:16.884266Z",
     "shell.execute_reply.started": "2022-03-29T01:59:54.186185Z"
    }
   },
   "outputs": [
    {
     "name": "stderr",
     "output_type": "stream",
     "text": [
      "OMP: Info #273: omp_set_nested routine deprecated, please use omp_set_max_active_levels instead.\n"
     ]
    },
    {
     "name": "stdout",
     "output_type": "stream",
     "text": [
      "세포에 대한 quality control metric:\n",
      "                                        n_genes_by_counts  \\\n",
      "cell_id                                                     \n",
      "AAACCCAAGAAGGTAG_TSP10_Skin_NA_10X_1_1               1513   \n",
      "AAACCCAAGTGACCTT_TSP10_Skin_NA_10X_1_1               1474   \n",
      "AAACCCAAGTTATGGA_TSP10_Skin_NA_10X_1_1                883   \n",
      "\n",
      "                                        log1p_n_genes_by_counts  total_counts  \\\n",
      "cell_id                                                                         \n",
      "AAACCCAAGAAGGTAG_TSP10_Skin_NA_10X_1_1                 7.322510   3339.728516   \n",
      "AAACCCAAGTGACCTT_TSP10_Skin_NA_10X_1_1                 7.296413   3907.855713   \n",
      "AAACCCAAGTTATGGA_TSP10_Skin_NA_10X_1_1                 6.784457   3244.276123   \n",
      "\n",
      "                                        log1p_total_counts  \\\n",
      "cell_id                                                      \n",
      "AAACCCAAGAAGGTAG_TSP10_Skin_NA_10X_1_1            8.113944   \n",
      "AAACCCAAGTGACCTT_TSP10_Skin_NA_10X_1_1            8.271000   \n",
      "AAACCCAAGTTATGGA_TSP10_Skin_NA_10X_1_1            8.084956   \n",
      "\n",
      "                                        pct_counts_in_top_50_genes  \\\n",
      "cell_id                                                              \n",
      "AAACCCAAGAAGGTAG_TSP10_Skin_NA_10X_1_1                   12.742302   \n",
      "AAACCCAAGTGACCTT_TSP10_Skin_NA_10X_1_1                   12.032245   \n",
      "AAACCCAAGTTATGGA_TSP10_Skin_NA_10X_1_1                   13.747980   \n",
      "\n",
      "                                        pct_counts_in_top_100_genes  \\\n",
      "cell_id                                                               \n",
      "AAACCCAAGAAGGTAG_TSP10_Skin_NA_10X_1_1                    20.373629   \n",
      "AAACCCAAGTGACCTT_TSP10_Skin_NA_10X_1_1                    19.575961   \n",
      "AAACCCAAGTTATGGA_TSP10_Skin_NA_10X_1_1                    23.564498   \n",
      "\n",
      "                                        pct_counts_in_top_200_genes  \\\n",
      "cell_id                                                               \n",
      "AAACCCAAGAAGGTAG_TSP10_Skin_NA_10X_1_1                    31.425554   \n",
      "AAACCCAAGTGACCTT_TSP10_Skin_NA_10X_1_1                    30.239532   \n",
      "AAACCCAAGTTATGGA_TSP10_Skin_NA_10X_1_1                    38.633558   \n",
      "\n",
      "                                        pct_counts_in_top_500_genes  \\\n",
      "cell_id                                                               \n",
      "AAACCCAAGAAGGTAG_TSP10_Skin_NA_10X_1_1                    55.229678   \n",
      "AAACCCAAGTGACCTT_TSP10_Skin_NA_10X_1_1                    54.239289   \n",
      "AAACCCAAGTTATGGA_TSP10_Skin_NA_10X_1_1                    72.279712   \n",
      "\n",
      "                                        total_counts_MT  \\\n",
      "cell_id                                                   \n",
      "AAACCCAAGAAGGTAG_TSP10_Skin_NA_10X_1_1              0.0   \n",
      "AAACCCAAGTGACCTT_TSP10_Skin_NA_10X_1_1              0.0   \n",
      "AAACCCAAGTTATGGA_TSP10_Skin_NA_10X_1_1              0.0   \n",
      "\n",
      "                                        log1p_total_counts_MT  pct_counts_MT  \n",
      "cell_id                                                                       \n",
      "AAACCCAAGAAGGTAG_TSP10_Skin_NA_10X_1_1                    0.0            0.0  \n",
      "AAACCCAAGTGACCTT_TSP10_Skin_NA_10X_1_1                    0.0            0.0  \n",
      "AAACCCAAGTTATGGA_TSP10_Skin_NA_10X_1_1                    0.0            0.0  \n",
      "\n",
      "유전자에 대한 quality control metric:\n",
      "           n_cells_by_counts  mean_counts  log1p_mean_counts  \\\n",
      "DDX11L1                    2     0.000570           0.000570   \n",
      "WASH7P                    94     0.021657           0.021426   \n",
      "MIR6859-1                  4     0.001541           0.001540   \n",
      "\n",
      "           pct_dropout_by_counts  total_counts  log1p_total_counts  \n",
      "DDX11L1                99.978778      5.372578            1.852004  \n",
      "WASH7P                 99.002547    204.094666            5.323472  \n",
      "MIR6859-1              99.957555     14.527079            2.742585  \n"
     ]
    }
   ],
   "source": [
    "# (cell_qc_dataframe, gene_qc_dataframe) tuple을 반환\n",
    "# 제어하려는 변수를 ERCC로 설정\n",
    "                                \n",
    "qc = sc.pp.calculate_qc_metrics(adata, qc_vars=['MT'])\n",
    "                                                        \n",
    "cell_qc_dataframe = qc[0]\n",
    "gene_qc_dataframe = qc[1]\n",
    "\n",
    "print('세포에 대한 quality control metric:')\n",
    "print(cell_qc_dataframe.head(3))\n",
    "\n",
    "print('\\n유전자에 대한 quality control metric:')\n",
    "print(gene_qc_dataframe.head(3))"
   ]
  },
  {
   "cell_type": "markdown",
   "metadata": {},
   "source": [
    "## QC for cells\n",
    "\n",
    "### Library size\n",
    "\n",
    "Read가 적은 세포는 손상되었거나 세포 캡처에 실패했을 가능성이 높으므로 제거를 하는 게 좋습니다."
   ]
  },
  {
   "cell_type": "code",
   "execution_count": 6,
   "metadata": {
    "execution": {
     "iopub.execute_input": "2022-03-29T02:01:22.153304Z",
     "iopub.status.busy": "2022-03-29T02:01:22.152923Z",
     "iopub.status.idle": "2022-03-29T02:01:25.394988Z",
     "shell.execute_reply": "2022-03-29T02:01:25.393828Z",
     "shell.execute_reply.started": "2022-03-29T02:01:22.153266Z"
    }
   },
   "outputs": [
    {
     "data": {
      "text/plain": [
       "(0.0, 10000.0)"
      ]
     },
     "execution_count": 6,
     "metadata": {},
     "output_type": "execute_result"
    },
    {
     "data": {
      "image/png": "[encoded data removed]",
      "text/plain": [
       "<Figure size 432x288 with 1 Axes>"
      ]
     },
     "metadata": {
      "needs_background": "light"
     },
     "output_type": "display_data"
    }
   ],
   "source": [
    "plt.hist(cell_qc_dataframe['total_counts'], bins=1000)\n",
    "plt.xlabel('Num of Reads')\n",
    "plt.ylabel('Num of Cells')\n",
    "# 5000개 미만의 read가 있는 세포들을 보기 위해 선을 긋습니다 (빨간색 선)\n",
    "plt.axvline(5000, color='red')\n",
    "# x axis를 0~10000으로 합니다\n",
    "plt.xlim(0,1e4)"
   ]
  },
  {
   "cell_type": "markdown",
   "metadata": {},
   "source": [
    "Read의 수가 5,000개 미만인 세포가 제거되지 않았습니다. \n",
    "\n",
    "### Detected Genes\n",
    "\n",
    "이제 read가 transcriptome 전체에 잘 분산됬는지 확인해야합니다. 이것을 위해 각 샘플에서 감지한 고유한 유전자의 총 수를 계산합니다."
   ]
  },
  {
   "cell_type": "code",
   "execution_count": 7,
   "metadata": {
    "execution": {
     "iopub.execute_input": "2022-03-29T02:08:03.245634Z",
     "iopub.status.busy": "2022-03-29T02:08:03.245240Z",
     "iopub.status.idle": "2022-03-29T02:08:03.811232Z",
     "shell.execute_reply": "2022-03-29T02:08:03.810300Z",
     "shell.execute_reply.started": "2022-03-29T02:08:03.245597Z"
    }
   },
   "outputs": [
    {
     "data": {
      "text/plain": [
       "<matplotlib.lines.Line2D at 0x16fa5c0a0>"
      ]
     },
     "execution_count": 7,
     "metadata": {},
     "output_type": "execute_result"
    },
    {
     "data": {
      "image/png": "[encoded data removed]",
      "text/plain": [
       "<Figure size 432x288 with 1 Axes>"
      ]
     },
     "metadata": {
      "needs_background": "light"
     },
     "output_type": "display_data"
    }
   ],
   "source": [
    "plt.hist(cell_qc_dataframe['n_genes_by_counts'], bins=100)\n",
    "plt.xlabel('Num of Genes')\n",
    "plt.ylabel('Num of Cells')\n",
    "plt.axvline(500, color='red')"
   ]
  },
  {
   "cell_type": "markdown",
   "metadata": {},
   "source": [
    "### Spike-ins (ERCC)\n",
    "\n",
    "세포 품질의 또 다른 측정 방법은 spike-in RNA와 endogenous RNA 간의 비율을 보는 것입니다. 높은 비율의 spike-in RNA가 있는 세포는 RNA의 양이 적은 편인데, 이는 세포가 죽거나 스트레스를 받아 RNA degration이 일어날 수 있기 때문입니다.\n",
    "\n",
    "한번 ERCC의 비율이 10%인 지점에 선을 그어보겠습니다. Threshold를 설정할 때는 항상 상황에 따른 판단을 잘 해야 합니다."
   ]
  },
  {
   "cell_type": "code",
   "execution_count": 8,
   "metadata": {
    "execution": {
     "iopub.execute_input": "2022-03-29T02:08:07.842575Z",
     "iopub.status.busy": "2022-03-29T02:08:07.842262Z",
     "iopub.status.idle": "2022-03-29T02:08:10.667922Z",
     "shell.execute_reply": "2022-03-29T02:08:10.666793Z",
     "shell.execute_reply.started": "2022-03-29T02:08:07.842541Z"
    }
   },
   "outputs": [
    {
     "data": {
      "text/plain": [
       "<matplotlib.lines.Line2D at 0x164ba9240>"
      ]
     },
     "execution_count": 8,
     "metadata": {},
     "output_type": "execute_result"
    },
    {
     "data": {
      "image/png": "[encoded data removed]",
      "text/plain": [
       "<Figure size 432x288 with 1 Axes>"
      ]
     },
     "metadata": {
      "needs_background": "light"
     },
     "output_type": "display_data"
    }
   ],
   "source": [
    "plt.hist(cell_qc_dataframe['pct_counts_MT'], bins=1000)\n",
    "plt.xlabel('Percent counts MT')\n",
    "plt.ylabel('N cells')\n",
    "\n",
    "plt.axvline(10, color='red')"
   ]
  },
  {
   "cell_type": "markdown",
   "metadata": {},
   "source": [
    "결과를 보면 세포의 spike-in 비율이 전부 10% 이하라는 것을 볼 수 있습니다. \n",
    "\n",
    "## Cell Filtering\n",
    "\n",
    "이제 결과를 기반으로 cell filtering을 할 차례입니다. "
   ]
  },
  {
   "cell_type": "code",
   "execution_count": 9,
   "metadata": {
    "execution": {
     "iopub.execute_input": "2022-03-29T02:08:14.113422Z",
     "iopub.status.busy": "2022-03-29T02:08:14.113118Z",
     "iopub.status.idle": "2022-03-29T02:08:14.984661Z",
     "shell.execute_reply": "2022-03-29T02:08:14.983597Z",
     "shell.execute_reply.started": "2022-03-29T02:08:14.113389Z"
    }
   },
   "outputs": [
    {
     "name": "stdout",
     "output_type": "stream",
     "text": [
      "\n",
      "\n",
      "After: \n",
      " AnnData object with n_obs × n_vars = 9378 × 58870\n",
      "    obs: 'organ_tissue', 'method', 'donor', 'anatomical_information', 'n_counts_UMIs', 'n_genes', 'cell_ontology_class', 'free_annotation', 'manually_annotated', 'compartment', 'gender'\n",
      "    var: 'gene_symbol', 'feature_type', 'ensemblid', 'highly_variable', 'means', 'dispersions', 'dispersions_norm', 'mean', 'std', 'ERCC', 'MT'\n",
      "    uns: '_scvi', '_training_mode', 'cell_ontology_class_colors', 'dendrogram_cell_type_tissue', 'dendrogram_computational_compartment_assignment', 'dendrogram_consensus_prediction', 'dendrogram_tissue_cell_type', 'donor_colors', 'donor_method_colors', 'hvg', 'method_colors', 'neighbors', 'sex_colors', 'tissue_colors', 'umap'\n",
      "    obsm: 'X_pca', 'X_scvi', 'X_scvi_umap', 'X_umap'\n",
      "    layers: 'decontXcounts', 'raw_counts'\n",
      "    obsp: 'connectivities', 'distances'\n"
     ]
    }
   ],
   "source": [
    "# 500개 미만의 유전자가 검출된 세포를 필터링합니다\n",
    "sc.pp.filter_cells(adata, min_genes = 500)\n",
    "print('\\n\\nAfter: \\n', adata)"
   ]
  },
  {
   "cell_type": "code",
   "execution_count": 10,
   "metadata": {
    "execution": {
     "iopub.execute_input": "2022-03-29T02:08:20.661225Z",
     "iopub.status.busy": "2022-03-29T02:08:20.660371Z",
     "iopub.status.idle": "2022-03-29T02:08:21.174657Z",
     "shell.execute_reply": "2022-03-29T02:08:21.173421Z",
     "shell.execute_reply.started": "2022-03-29T02:08:20.661183Z"
    }
   },
   "outputs": [
    {
     "name": "stdout",
     "output_type": "stream",
     "text": [
      "\n",
      "\n",
      "After:  AnnData object with n_obs × n_vars = 5741 × 58870\n",
      "    obs: 'organ_tissue', 'method', 'donor', 'anatomical_information', 'n_counts_UMIs', 'n_genes', 'cell_ontology_class', 'free_annotation', 'manually_annotated', 'compartment', 'gender', 'n_counts'\n",
      "    var: 'gene_symbol', 'feature_type', 'ensemblid', 'highly_variable', 'means', 'dispersions', 'dispersions_norm', 'mean', 'std', 'ERCC', 'MT'\n",
      "    uns: '_scvi', '_training_mode', 'cell_ontology_class_colors', 'dendrogram_cell_type_tissue', 'dendrogram_computational_compartment_assignment', 'dendrogram_consensus_prediction', 'dendrogram_tissue_cell_type', 'donor_colors', 'donor_method_colors', 'hvg', 'method_colors', 'neighbors', 'sex_colors', 'tissue_colors', 'umap'\n",
      "    obsm: 'X_pca', 'X_scvi', 'X_scvi_umap', 'X_umap'\n",
      "    layers: 'decontXcounts', 'raw_counts'\n",
      "    obsp: 'connectivities', 'distances'\n"
     ]
    }
   ],
   "source": [
    "# 5000개 미만의 read를 가진 세포를 제거합니다. \n",
    "sc.pp.filter_cells(adata, min_counts = 5000)\n",
    "print(\"\\n\\nAfter: \", adata)"
   ]
  },
  {
   "cell_type": "markdown",
   "metadata": {},
   "source": [
    "## QC for genes\n",
    "\n",
    "발현 수준이 \"detectable\" 하다고 간주되는 유전자만 남기는 것이 좋습니다. 2개 이상의 세포에 해당 유전자로부터 5개 이상의 read가 포함된 경우 \"detectable\" 하다고 할 수 있습니다. 특정 유전자들은 퀄리티가 낮은 세포에서만 검출될 수도 있기 때문에 세포 QC를 진행한 후에 유전자 QC를 진행해야 합니다. "
   ]
  },
  {
   "cell_type": "code",
   "execution_count": 11,
   "metadata": {
    "execution": {
     "iopub.execute_input": "2022-03-29T02:08:25.148268Z",
     "iopub.status.busy": "2022-03-29T02:08:25.147958Z",
     "iopub.status.idle": "2022-03-29T02:08:29.389934Z",
     "shell.execute_reply": "2022-03-29T02:08:29.389107Z",
     "shell.execute_reply.started": "2022-03-29T02:08:25.148235Z"
    }
   },
   "outputs": [
    {
     "data": {
      "image/png": "[encoded data removed]",
      "text/plain": [
       "<Figure size 432x288 with 1 Axes>"
      ]
     },
     "metadata": {
      "needs_background": "light"
     },
     "output_type": "display_data"
    }
   ],
   "source": [
    "plt.hist(gene_qc_dataframe['n_cells_by_counts'], bins=1000)\n",
    "plt.xlabel('N cells expressing > 0')\n",
    "plt.ylabel('log(Num of Genes)')\n",
    "# 최소 2개의 세포가 read를 포함 \n",
    "plt.axvline(2, color='red')\n",
    "# y축 스케일을 log로 설정\n",
    "plt.yscale('log') "
   ]
  },
  {
   "cell_type": "markdown",
   "metadata": {},
   "source": [
    "* Tip: 실제로 코딩을 할 때는 각 그래프 전에 \"a = plt.figure(\"graph name\")\"으로 그래프 이름을 설정해 주고 마지막 그래프 이후에 \"plt.show()\"를 적으면 모든 그래프를 동시에 볼 수 있습니다. "
   ]
  },
  {
   "cell_type": "code",
   "execution_count": 12,
   "metadata": {
    "execution": {
     "iopub.execute_input": "2022-03-29T02:08:36.053994Z",
     "iopub.status.busy": "2022-03-29T02:08:36.053159Z",
     "iopub.status.idle": "2022-03-29T02:08:39.661063Z",
     "shell.execute_reply": "2022-03-29T02:08:39.660048Z",
     "shell.execute_reply.started": "2022-03-29T02:08:36.053952Z"
    }
   },
   "outputs": [
    {
     "data": {
      "text/plain": [
       "<matplotlib.lines.Line2D at 0x164df92a0>"
      ]
     },
     "execution_count": 12,
     "metadata": {},
     "output_type": "execute_result"
    },
    {
     "data": {
      "image/png": "[encoded data removed]",
      "text/plain": [
       "<Figure size 432x288 with 1 Axes>"
      ]
     },
     "metadata": {
      "needs_background": "light"
     },
     "output_type": "display_data"
    }
   ],
   "source": [
    "plt.hist(gene_qc_dataframe['total_counts'], bins=1000)\n",
    "plt.xlabel('Total counts')\n",
    "plt.ylabel('log(N genes)') \n",
    "plt.yscale('log') \n",
    "# 해당 유전자로부터 10개 이상의 read가 포함된 경우\n",
    "plt.axvline(10, color='red')"
   ]
  },
  {
   "cell_type": "markdown",
   "metadata": {},
   "source": [
    "## Gene Filtering\n",
    "\n",
    "이제 결과를 기반으로 gene filtering을 할 차례입니다."
   ]
  },
  {
   "cell_type": "code",
   "execution_count": 13,
   "metadata": {
    "execution": {
     "iopub.execute_input": "2022-03-29T02:08:43.009684Z",
     "iopub.status.busy": "2022-03-29T02:08:43.009276Z",
     "iopub.status.idle": "2022-03-29T02:08:44.654044Z",
     "shell.execute_reply": "2022-03-29T02:08:44.652729Z",
     "shell.execute_reply.started": "2022-03-29T02:08:43.009627Z"
    }
   },
   "outputs": [
    {
     "name": "stdout",
     "output_type": "stream",
     "text": [
      "\n",
      "\n",
      "After filtering num of cells containing reads: \n",
      " AnnData object with n_obs × n_vars = 5741 × 33642\n",
      "    obs: 'organ_tissue', 'method', 'donor', 'anatomical_information', 'n_counts_UMIs', 'n_genes', 'cell_ontology_class', 'free_annotation', 'manually_annotated', 'compartment', 'gender', 'n_counts'\n",
      "    var: 'gene_symbol', 'feature_type', 'ensemblid', 'highly_variable', 'means', 'dispersions', 'dispersions_norm', 'mean', 'std', 'ERCC', 'MT', 'n_cells'\n",
      "    uns: '_scvi', '_training_mode', 'cell_ontology_class_colors', 'dendrogram_cell_type_tissue', 'dendrogram_computational_compartment_assignment', 'dendrogram_consensus_prediction', 'dendrogram_tissue_cell_type', 'donor_colors', 'donor_method_colors', 'hvg', 'method_colors', 'neighbors', 'sex_colors', 'tissue_colors', 'umap'\n",
      "    obsm: 'X_pca', 'X_scvi', 'X_scvi_umap', 'X_umap'\n",
      "    layers: 'decontXcounts', 'raw_counts'\n",
      "    obsp: 'connectivities', 'distances'\n",
      "\n",
      "\n",
      "After filtering number of reads from the gene: \n",
      " AnnData object with n_obs × n_vars = 5741 × 32122\n",
      "    obs: 'organ_tissue', 'method', 'donor', 'anatomical_information', 'n_counts_UMIs', 'n_genes', 'cell_ontology_class', 'free_annotation', 'manually_annotated', 'compartment', 'gender', 'n_counts'\n",
      "    var: 'gene_symbol', 'feature_type', 'ensemblid', 'highly_variable', 'means', 'dispersions', 'dispersions_norm', 'mean', 'std', 'ERCC', 'MT', 'n_cells', 'n_counts'\n",
      "    uns: '_scvi', '_training_mode', 'cell_ontology_class_colors', 'dendrogram_cell_type_tissue', 'dendrogram_computational_compartment_assignment', 'dendrogram_consensus_prediction', 'dendrogram_tissue_cell_type', 'donor_colors', 'donor_method_colors', 'hvg', 'method_colors', 'neighbors', 'sex_colors', 'tissue_colors', 'umap'\n",
      "    obsm: 'X_pca', 'X_scvi', 'X_scvi_umap', 'X_umap'\n",
      "    layers: 'decontXcounts', 'raw_counts'\n",
      "    obsp: 'connectivities', 'distances'\n"
     ]
    }
   ],
   "source": [
    "# 최소 2개의 세포에 read가 포함되는 경우\n",
    "sc.pp.filter_genes(adata, min_cells = 2)\n",
    "print('\\n\\nAfter filtering num of cells containing reads: \\n', adata)\n",
    "# 10개 이상의 read가 포함된 경우\n",
    "sc.pp.filter_genes(adata, min_counts = 10)\n",
    "print('\\n\\nAfter filtering number of reads from the gene: \\n', adata)"
   ]
  },
  {
   "cell_type": "markdown",
   "metadata": {},
   "source": [
    "위 결과를 통해 필터링 된 유전자는 없다는 것을 알 수 있습니다. 이제 QC가 진행된 데이터 세트를 저장합니다."
   ]
  },
  {
   "cell_type": "code",
   "execution_count": 14,
   "metadata": {
    "execution": {
     "iopub.execute_input": "2022-01-19T04:56:23.788465Z",
     "iopub.status.busy": "2022-01-19T04:56:23.78821Z",
     "iopub.status.idle": "2022-01-19T04:56:25.856595Z",
     "shell.execute_reply": "2022-01-19T04:56:25.855834Z",
     "shell.execute_reply.started": "2022-01-19T04:56:23.788436Z"
    }
   },
   "outputs": [],
   "source": [
    "adata.write('./data/TS_Skin_qc.h5ad')"
   ]
  }
 ],
 "metadata": {
  "kernelspec": {
   "display_name": "Python 3 (ipykernel)",
   "language": "python",
   "name": "python3"
  },
  "language_info": {
   "codemirror_mode": {
    "name": "ipython",
    "version": 3
   },
   "file_extension": ".py",
   "mimetype": "text/x-python",
   "name": "python",
   "nbconvert_exporter": "python",
   "pygments_lexer": "ipython3",
   "version": "3.10.3"
  }
 },
 "nbformat": 4,
 "nbformat_minor": 4
}
