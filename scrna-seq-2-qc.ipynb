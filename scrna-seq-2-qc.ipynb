{
 "cells": [
  {
   "cell_type": "markdown",
   "metadata": {},
   "source": [
    "# Quality Control\n",
    "\n",
    "## Introduction\n",
    "\n",
    "AnnData 개체를 생생한 후 raw read의 초기 처리 과정 중 감지되지 않은 낮은 퀄리티의 셀을 제거하기 위해 검사를 해야 합니다. 낮은 퀄리티의 셀을 제거하지 못하면 노이즈가 추가될 수 있습니다. scRNAseq를 수행하는 표준 방법은 없기 때문에 상황에 맞는 방법 선택과 값 선택이 중요합니다.\n",
    "\n",
    "이전 노트북에서 준비한 데이터로 계속 작업할 것입니다. 사용하는 scanpy 함수들의 자세한 정보를 원하면 https://scanpy.readthedocs.io/en/stable/api.html 을 참고하세요."
   ]
  },
  {
   "cell_type": "code",
   "execution_count": 4,
   "metadata": {
    "execution": {
     "iopub.execute_input": "2022-03-29T01:41:28.580048Z",
     "iopub.status.busy": "2022-03-29T01:41:28.578951Z",
     "iopub.status.idle": "2022-03-29T01:41:30.756728Z",
     "shell.execute_reply": "2022-03-29T01:41:30.755767Z",
     "shell.execute_reply.started": "2022-03-29T01:41:28.579990Z"
    }
   },
   "outputs": [],
   "source": [
    "import scanpy as sc \n",
    "import pandas as pd \n",
    "# qc metric 시각화하기 위해 matplotlib를 import합니다\n",
    "import matplotlib.pyplot as plt \n",
    "\n",
    "%matplotlib inline \n",
    "\n",
    "adata = sc.read('./data/brain_raw.h5ad')"
   ]
  },
  {
   "cell_type": "markdown",
   "metadata": {},
   "source": [
    "## Computing QC metrics\n",
    "\n",
    "QC metric을 계산한 다음 그에 맞게 세포와 유전자를 필터링합니다. compute_qc_metrics 함수는 두 개의 DataFrame을 반환합니다: 하나는 세포에 대한 quality control metric을 포함하고 다른 하나는 유전자에 대한 metric입니다. "
   ]
  },
  {
   "cell_type": "code",
   "execution_count": 5,
   "metadata": {
    "execution": {
     "iopub.execute_input": "2022-03-29T01:41:32.569064Z",
     "iopub.status.busy": "2022-03-29T01:41:32.568726Z",
     "iopub.status.idle": "2022-03-29T01:41:34.016879Z",
     "shell.execute_reply": "2022-03-29T01:41:34.015905Z",
     "shell.execute_reply.started": "2022-03-29T01:41:32.569015Z"
    }
   },
   "outputs": [
    {
     "name": "stdout",
     "output_type": "stream",
     "text": [
      "세포에 대한 quality control metric:\n",
      "                         n_genes_by_counts  log1p_n_genes_by_counts  \\\n",
      "cell                                                                  \n",
      "A1.B003290.3_38_F.1.1                 3359                 8.119696   \n",
      "A1.B003728.3_56_F.1.1                 1718                 7.449498   \n",
      "A1.MAA000560.3_10_M.1.1               3910                 8.271548   \n",
      "\n",
      "                         total_counts  log1p_total_counts  \\\n",
      "cell                                                        \n",
      "A1.B003290.3_38_F.1.1        390075.0           12.874097   \n",
      "A1.B003728.3_56_F.1.1        776439.0           13.562474   \n",
      "A1.MAA000560.3_10_M.1.1     1616087.0           14.295519   \n",
      "\n",
      "                         pct_counts_in_top_50_genes  \\\n",
      "cell                                                  \n",
      "A1.B003290.3_38_F.1.1                     25.884766   \n",
      "A1.B003728.3_56_F.1.1                     43.051933   \n",
      "A1.MAA000560.3_10_M.1.1                   44.066006   \n",
      "\n",
      "                         pct_counts_in_top_100_genes  \\\n",
      "cell                                                   \n",
      "A1.B003290.3_38_F.1.1                      32.847017   \n",
      "A1.B003728.3_56_F.1.1                      52.912721   \n",
      "A1.MAA000560.3_10_M.1.1                    51.514553   \n",
      "\n",
      "                         pct_counts_in_top_200_genes  \\\n",
      "cell                                                   \n",
      "A1.B003290.3_38_F.1.1                      42.219573   \n",
      "A1.B003728.3_56_F.1.1                      65.313309   \n",
      "A1.MAA000560.3_10_M.1.1                    60.164211   \n",
      "\n",
      "                         pct_counts_in_top_500_genes  total_counts_ERCC  \\\n",
      "cell                                                                      \n",
      "A1.B003290.3_38_F.1.1                      59.472666            10201.0   \n",
      "A1.B003728.3_56_F.1.1                      87.315423            67351.0   \n",
      "A1.MAA000560.3_10_M.1.1                    74.451190            29870.0   \n",
      "\n",
      "                         log1p_total_counts_ERCC  pct_counts_ERCC  \n",
      "cell                                                               \n",
      "A1.B003290.3_38_F.1.1                   9.230339         2.615138  \n",
      "A1.B003728.3_56_F.1.1                  11.117688         8.674345  \n",
      "A1.MAA000560.3_10_M.1.1                10.304644         1.848292  \n",
      "\n",
      "유전자에 대한 quality control metric:\n",
      "               n_cells_by_counts  mean_counts  log1p_mean_counts  \\\n",
      "0610005C13Rik                 28     0.118201           0.111721   \n",
      "0610007C21Rik               2399   206.211990           5.333742   \n",
      "0610007L01Rik                961    35.938549           3.609256   \n",
      "\n",
      "               pct_dropout_by_counts  total_counts  log1p_total_counts  \n",
      "0610005C13Rik              99.176713         402.0            5.998937  \n",
      "0610007C21Rik              29.461923      701327.0           13.460731  \n",
      "0610007L01Rik              71.743605      122227.0           11.713643  \n"
     ]
    }
   ],
   "source": [
    "# (cell_qc_dataframe, gene_qc_dataframe) tuple을 반환\n",
    "# 제어하려는 변수를 ERCC로 설정\n",
    "qc = sc.pp.calculate_qc_metrics(adata, qc_vars = ['ERCC'])\n",
    "                                                        \n",
    "cell_qc_dataframe = qc[0]\n",
    "gene_qc_dataframe = qc[1]\n",
    "\n",
    "print('세포에 대한 quality control metric:')\n",
    "print(cell_qc_dataframe.head(3))\n",
    "\n",
    "print('\\n유전자에 대한 quality control metric:')\n",
    "print(gene_qc_dataframe.head(3))"
   ]
  },
  {
   "cell_type": "markdown",
   "metadata": {},
   "source": [
    "## QC for cells\n",
    "\n",
    "### Library size\n",
    "\n",
    "Read가 적은 세포는 손상되었거나 세포 캡처에 실패했을 가능성이 높으므로 제거를 하는 게 좋습니다."
   ]
  },
  {
   "cell_type": "code",
   "execution_count": 6,
   "metadata": {
    "execution": {
     "iopub.execute_input": "2022-03-29T01:41:37.698941Z",
     "iopub.status.busy": "2022-03-29T01:41:37.698610Z",
     "iopub.status.idle": "2022-03-29T01:41:40.485614Z",
     "shell.execute_reply": "2022-03-29T01:41:40.484713Z",
     "shell.execute_reply.started": "2022-03-29T01:41:37.698907Z"
    }
   },
   "outputs": [
    {
     "data": {
      "text/plain": [
       "<matplotlib.lines.Line2D at 0x1106fb9d0>"
      ]
     },
     "execution_count": 6,
     "metadata": {},
     "output_type": "execute_result"
    },
    {
     "data": {
      "image/png": "[encoded data removed]",
      "text/plain": [
       "<Figure size 432x288 with 1 Axes>"
      ]
     },
     "metadata": {
      "needs_background": "light"
     },
     "output_type": "display_data"
    }
   ],
   "source": [
    "plt.hist(cell_qc_dataframe['total_counts'], bins=1000)\n",
    "plt.xlabel('Num of Reads')\n",
    "plt.ylabel('Num of Cells')\n",
    "# 50000개 미만의 read가 있는 세포들을 보기 위해 선을 긋습니다 (빨간색 선)\n",
    "plt.axvline(50000, color='red')\n",
    "# plt.xlim(0,1e6)"
   ]
  },
  {
   "cell_type": "markdown",
   "metadata": {},
   "source": [
    "결과를 통해 이미 read의 수가 50,000개 미만인 세포는 제거된 걸 볼 수 있습니다.\n",
    "\n",
    "### Detected Genes\n",
    "\n",
    "Read가 transcriptome 전체에 잘 분산됬는지 확인해야합니다. 이것을 위해 각 샘플에서 감지한 고유한 유전자의 총 수를 계산합니다."
   ]
  },
  {
   "cell_type": "code",
   "execution_count": 7,
   "metadata": {
    "execution": {
     "iopub.execute_input": "2022-03-29T01:41:44.296387Z",
     "iopub.status.busy": "2022-03-29T01:41:44.295622Z",
     "iopub.status.idle": "2022-03-29T01:41:44.743274Z",
     "shell.execute_reply": "2022-03-29T01:41:44.742119Z",
     "shell.execute_reply.started": "2022-03-29T01:41:44.296317Z"
    }
   },
   "outputs": [
    {
     "data": {
      "text/plain": [
       "<matplotlib.lines.Line2D at 0x12f03a380>"
      ]
     },
     "execution_count": 7,
     "metadata": {},
     "output_type": "execute_result"
    },
    {
     "data": {
      "image/png": "[encoded data removed]",
      "text/plain": [
       "<Figure size 432x288 with 1 Axes>"
      ]
     },
     "metadata": {
      "needs_background": "light"
     },
     "output_type": "display_data"
    }
   ],
   "source": [
    "plt.hist(cell_qc_dataframe['n_genes_by_counts'], bins=100)\n",
    "plt.xlabel('Num of Genes')\n",
    "plt.ylabel('Num of Cells')\n",
    "plt.axvline(1000, color='red')"
   ]
  },
  {
   "cell_type": "markdown",
   "metadata": {},
   "source": [
    "### Spike-ins (ERCC)\n",
    "\n",
    "세포 품질의 또 다른 측정 방법은 spike-in RNA와 endogenous RNA 간의 비율을 보는 것입니다. 높은 비율의 spike-in RNA가 있는 세포는 RNA의 양이 적은 편인데, 이는 세포가 죽거나 스트레스를 받아 RNA degration이 일어날 수 있기 때문입니다.\n",
    "\n",
    "한번 ERCC의 비율이 10%인 지점에 선을 그어보겠습니다. Threshold를 설정할 때는 항상 상황에 따른 판단을 잘 해야 합니다."
   ]
  },
  {
   "cell_type": "code",
   "execution_count": 8,
   "metadata": {
    "execution": {
     "iopub.execute_input": "2022-03-29T01:41:47.351216Z",
     "iopub.status.busy": "2022-03-29T01:41:47.350720Z",
     "iopub.status.idle": "2022-03-29T01:41:49.676258Z",
     "shell.execute_reply": "2022-03-29T01:41:49.675121Z",
     "shell.execute_reply.started": "2022-03-29T01:41:47.351170Z"
    }
   },
   "outputs": [
    {
     "data": {
      "text/plain": [
       "<matplotlib.lines.Line2D at 0x110724460>"
      ]
     },
     "execution_count": 8,
     "metadata": {},
     "output_type": "execute_result"
    },
    {
     "data": {
      "image/png": "[encoded data removed]",
      "text/plain": [
       "<Figure size 432x288 with 1 Axes>"
      ]
     },
     "metadata": {
      "needs_background": "light"
     },
     "output_type": "display_data"
    }
   ],
   "source": [
    "plt.hist(cell_qc_dataframe['pct_counts_ERCC'], bins=1000)\n",
    "plt.xlabel('Percent counts ERCC')\n",
    "plt.ylabel('N cells')\n",
    "\n",
    "plt.axvline(10, color='red')"
   ]
  },
  {
   "cell_type": "markdown",
   "metadata": {},
   "source": [
    "결과를 보면 대부분의 세포의 spike-in 비율이 10% 이하라는 것을 볼 수 있습니다. 10% 이상 구간에 세포들이 소량씩 조금 있는 걸 볼 수 있는데 이들은 죽은 세포일 가능성이 있으므로 제거해야 합니다.\n",
    "\n",
    "## Cell Filtering\n",
    "\n",
    "이제 결과를 기반으로 cell filtering을 할 차례입니다. "
   ]
  },
  {
   "cell_type": "code",
   "execution_count": 9,
   "metadata": {
    "execution": {
     "iopub.execute_input": "2022-03-29T01:41:52.171929Z",
     "iopub.status.busy": "2022-03-29T01:41:52.171381Z",
     "iopub.status.idle": "2022-03-29T01:41:53.392309Z",
     "shell.execute_reply": "2022-03-29T01:41:53.391325Z",
     "shell.execute_reply.started": "2022-03-29T01:41:52.171891Z"
    }
   },
   "outputs": [
    {
     "name": "stdout",
     "output_type": "stream",
     "text": [
      "Start: \n",
      " AnnData object with n_obs × n_vars = 3401 × 23433\n",
      "    obs: 'cell_ontology_class', 'subtissue', 'mouse.sex', 'mouse.id', 'plate.barcode'\n",
      "    var: 'ERCC'\n",
      "\n",
      "\n",
      "After spike-in filtering: \n",
      " View of AnnData object with n_obs × n_vars = 3218 × 23433\n",
      "    obs: 'cell_ontology_class', 'subtissue', 'mouse.sex', 'mouse.id', 'plate.barcode'\n",
      "    var: 'ERCC'\n"
     ]
    },
    {
     "name": "stderr",
     "output_type": "stream",
     "text": [
      "/Users/eujin/.conda/envs/scRNAnotebook/lib/python3.10/site-packages/scanpy/preprocessing/_simple.py:140: ImplicitModificationWarning: Trying to modify attribute `.obs` of view, initializing view as actual.\n",
      "  adata.obs['n_genes'] = number\n"
     ]
    },
    {
     "name": "stdout",
     "output_type": "stream",
     "text": [
      "\n",
      "\n",
      "After gene count filtering: \n",
      " AnnData object with n_obs × n_vars = 3191 × 23433\n",
      "    obs: 'cell_ontology_class', 'subtissue', 'mouse.sex', 'mouse.id', 'plate.barcode', 'n_genes'\n",
      "    var: 'ERCC'\n"
     ]
    }
   ],
   "source": [
    "# ERCC read의 비율이 10%보다 높은 세포들을 제거합니다\n",
    "print('Start: \\n', adata)\n",
    "low_ERCC_mask = (cell_qc_dataframe['pct_counts_ERCC'] < 10)\n",
    "adata = adata[low_ERCC_mask]\n",
    "print('\\n\\nAfter spike-in filtering: \\n', adata)\n",
    "\n",
    "# 1000개 미만의 유전자가 검출된 세포를 필터링합니다\n",
    "sc.pp.filter_cells(adata, min_genes = 1000)\n",
    "print('\\n\\nAfter gene count filtering: \\n', adata)"
   ]
  },
  {
   "cell_type": "markdown",
   "metadata": {},
   "source": [
    "## QC for genes\n",
    "\n",
    "발현 수준이 \"detectable\" 하다고 간주되는 유전자만 남기는 것이 좋습니다. 2개 이상의 세포에 해당 유전자로부터 5개 이상의 read가 포함된 경우 \"detectable\" 하다고 할 수 있습니다. 특정 유전자들은 퀄리티가 낮은 세포에서만 검출될 수도 있기 때문에 세포 QC를 진행한 후에 유전자 QC를 진행해야 합니다. "
   ]
  },
  {
   "cell_type": "code",
   "execution_count": 10,
   "metadata": {
    "execution": {
     "iopub.execute_input": "2022-03-29T01:41:58.273111Z",
     "iopub.status.busy": "2022-03-29T01:41:58.271276Z",
     "iopub.status.idle": "2022-03-29T01:42:01.895657Z",
     "shell.execute_reply": "2022-03-29T01:42:01.894619Z",
     "shell.execute_reply.started": "2022-03-29T01:41:58.273025Z"
    }
   },
   "outputs": [
    {
     "data": {
      "image/png": "[encoded data removed]",
      "text/plain": [
       "<Figure size 432x288 with 1 Axes>"
      ]
     },
     "metadata": {
      "needs_background": "light"
     },
     "output_type": "display_data"
    }
   ],
   "source": [
    "plt.hist(gene_qc_dataframe['n_cells_by_counts'], bins=1000)\n",
    "plt.xlabel('N cells expressing > 0')\n",
    "plt.ylabel('log(Num of Genes)')\n",
    "# 최소 2개의 세포가 read를 포함 \n",
    "plt.axvline(2, color='red')\n",
    "# y축 스케일을 log로 설정\n",
    "plt.yscale('log') "
   ]
  },
  {
   "cell_type": "markdown",
   "metadata": {},
   "source": [
    "* Tip: 실제로 코딩을 할 때는 각 그래프 전에 \"a = plt.figure(\"graph name\")\"으로 그래프 이름을 설정해 주고 마지막 그래프 이후에 \"plt.show()\"를 적으면 모든 그래프를 동시에 볼 수 있습니다. "
   ]
  },
  {
   "cell_type": "code",
   "execution_count": 11,
   "metadata": {
    "execution": {
     "iopub.execute_input": "2022-03-29T01:42:05.210591Z",
     "iopub.status.busy": "2022-03-29T01:42:05.210309Z",
     "iopub.status.idle": "2022-03-29T01:42:08.165280Z",
     "shell.execute_reply": "2022-03-29T01:42:08.164306Z",
     "shell.execute_reply.started": "2022-03-29T01:42:05.210563Z"
    }
   },
   "outputs": [
    {
     "data": {
      "text/plain": [
       "<matplotlib.lines.Line2D at 0x12fb14430>"
      ]
     },
     "execution_count": 11,
     "metadata": {},
     "output_type": "execute_result"
    },
    {
     "data": {
      "image/png": "[encoded data removed]",
      "text/plain": [
       "<Figure size 432x288 with 1 Axes>"
      ]
     },
     "metadata": {
      "needs_background": "light"
     },
     "output_type": "display_data"
    }
   ],
   "source": [
    "plt.hist(gene_qc_dataframe['total_counts'], bins=1000)\n",
    "plt.xlabel('Total counts')\n",
    "plt.ylabel('log(N genes)') \n",
    "plt.yscale('log') \n",
    "# 해당 유전자로부터 10개 이상의 read가 포함된 경우\n",
    "plt.axvline(10, color='red')"
   ]
  },
  {
   "cell_type": "markdown",
   "metadata": {},
   "source": [
    "## Gene Filtering\n",
    "\n",
    "이제 결과를 기반으로 gene filtering을 할 차례입니다."
   ]
  },
  {
   "cell_type": "code",
   "execution_count": 12,
   "metadata": {
    "execution": {
     "iopub.execute_input": "2022-03-29T01:42:12.124156Z",
     "iopub.status.busy": "2022-03-29T01:42:12.123032Z",
     "iopub.status.idle": "2022-03-29T01:42:13.435130Z",
     "shell.execute_reply": "2022-03-29T01:42:13.433872Z",
     "shell.execute_reply.started": "2022-03-29T01:42:12.124100Z"
    }
   },
   "outputs": [
    {
     "name": "stdout",
     "output_type": "stream",
     "text": [
      "Start: \n",
      " AnnData object with n_obs × n_vars = 3191 × 23433\n",
      "    obs: 'cell_ontology_class', 'subtissue', 'mouse.sex', 'mouse.id', 'plate.barcode', 'n_genes'\n",
      "    var: 'ERCC'\n",
      "\n",
      "\n",
      "After filtering num of cells containing reads: \n",
      " AnnData object with n_obs × n_vars = 3191 × 19353\n",
      "    obs: 'cell_ontology_class', 'subtissue', 'mouse.sex', 'mouse.id', 'plate.barcode', 'n_genes'\n",
      "    var: 'ERCC', 'n_cells'\n",
      "\n",
      "\n",
      "After filtering number of reads from the gene: \n",
      " AnnData object with n_obs × n_vars = 3191 × 18583\n",
      "    obs: 'cell_ontology_class', 'subtissue', 'mouse.sex', 'mouse.id', 'plate.barcode', 'n_genes'\n",
      "    var: 'ERCC', 'n_cells', 'n_counts'\n"
     ]
    }
   ],
   "source": [
    "print('Start: \\n', adata)\n",
    "# 최소 2개의 세포에 read가 포함되는 경우\n",
    "sc.pp.filter_genes(adata, min_cells = 2)\n",
    "print('\\n\\nAfter filtering num of cells containing reads: \\n', adata)\n",
    "# 10개 이상의 read가 포함된 경우\n",
    "sc.pp.filter_genes(adata, min_counts = 10)\n",
    "print('\\n\\nAfter filtering number of reads from the gene: \\n', adata)"
   ]
  },
  {
   "cell_type": "markdown",
   "metadata": {},
   "source": [
    "이제 QC가 진행된 데이터 세트를 저장합니다."
   ]
  },
  {
   "cell_type": "code",
   "execution_count": 13,
   "metadata": {
    "execution": {
     "iopub.execute_input": "2022-03-29T01:37:53.856495Z",
     "iopub.status.busy": "2022-03-29T01:37:53.856194Z",
     "iopub.status.idle": "2022-03-29T01:37:54.112564Z",
     "shell.execute_reply": "2022-03-29T01:37:54.111632Z",
     "shell.execute_reply.started": "2022-03-29T01:37:53.856461Z"
    }
   },
   "outputs": [],
   "source": [
    "adata.write('./data/brain_qc.h5ad')"
   ]
  }
 ],
 "metadata": {
  "kernelspec": {
   "display_name": "Python 3 (ipykernel)",
   "language": "python",
   "name": "python3"
  },
  "language_info": {
   "codemirror_mode": {
    "name": "ipython",
    "version": 3
   },
   "file_extension": ".py",
   "mimetype": "text/x-python",
   "name": "python",
   "nbconvert_exporter": "python",
   "pygments_lexer": "ipython3",
   "version": "3.10.3"
  }
 },
 "nbformat": 4,
 "nbformat_minor": 4
}
